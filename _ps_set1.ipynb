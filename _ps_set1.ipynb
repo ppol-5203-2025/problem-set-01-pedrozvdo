{
 "cells": [
  {
   "cell_type": "markdown",
   "id": "245e7088",
   "metadata": {},
   "source": [
    "<h1><center> PPOL 5203 Data Science I: Foundations <br><br> \n",
    "<font color='grey'>Problem Set I<br><br>\n",
    "Tiago Ventura</center></center> <h1> "
   ]
  },
  {
   "cell_type": "markdown",
   "id": "4fe2c5d4",
   "metadata": {},
   "source": [
    "This problem set will focus on: \n",
    "\n",
    "- Best Practices for project organization, reproducibility and coding\n",
    "- Git: working with branches, merging, and solving git conflicts\n",
    "- Git: understanding commit structure.\n",
    "\n",
    "You should submit your assigment via github classroom. \n",
    "\n",
    "I will consider your last commit as your final submission. "
   ]
  },
  {
   "cell_type": "markdown",
   "id": "f3e2b620",
   "metadata": {},
   "source": [
    "## Question 1 (pts 30) \n",
    "\n",
    "Congratulations!! Your data science report was accepted for publication! As it has become the norm, you now have to submit the data and code for replication of your report's results. \n",
    "\n",
    "You decided to create a github repo with all the materials (data, code, figures) of your article. You article has the following materials: \n",
    "\n",
    "- `main.py` (runs the main results of the paper); \n",
    "- `res_sif.py` (runs all results of the appendix);\n",
    "- `ana_add_p.py` (additional analysis main paper);\n",
    "- `prep   II  version_3.py` (does all the processing of the data);\n",
    "- `survey s II qualtrics 12/10.csv` (raw data);\n",
    "- `raw_data_II_saved_by_coauthor_X.json` (clean data);\n",
    "- `fig.png` (figure 1)\n",
    "- `figure abs.png` (figure 2)\n",
    "- `figure abs2.png` (figure 3)\n",
    "- `figure abs3.png` (figure 4)\n",
    "- `figure abs4.png` (figure 5)\n",
    "- `figure sif.png` (figure 1 appendix with heteregenous effects)\n",
    "- `figure sif .png` (figure 2 appendix results for polarization)\n",
    "- `figure sif .png` (figure 3 appendix robustness checks)\n",
    "\n",
    "**Your taks:** Create a folder in your repository named `question-01`. In this folder, you should simulate a github repo with all the materials (data, code, figures) of your article that follows the best practices for project management and reproducibility we discussed in class. \n",
    "\n",
    "- Tip 1: Check [this repo](https://github.com/TiagoVentura/winning_plosone/tree/main) to see what your response should look like. \n",
    "\n",
    "- Tip 2: I do not care what is inside of each file. Just create a empty file/output with the appropiate name. \n",
    "\n",
    "- Tip 3: You **do not** need to worry about creating a conda or pyenv environment. "
   ]
  },
  {
   "cell_type": "code",
   "execution_count": null,
   "id": "825d293b",
   "metadata": {},
   "outputs": [],
   "source": [
    "# No needs to answer anything here. This should be a full folder in your repository\n"
   ]
  },
  {
   "cell_type": "markdown",
   "id": "77656f95",
   "metadata": {},
   "source": [
    "## Question 2 (pts 30) \n",
    "\n",
    "In this question, I ask you to practice several git commands. In your response below, you should paste all the commands you used to answer the question. If you did some trial and error, it is not a problem. Paste the correct response to each item. \n",
    "\n",
    "1. In your main repository (from github classroom), create a `.txt` named `solutions_for_question_2`. Write the name of your favorite book in the file.  \n",
    "\n",
    "2. Add that file to the staging area.\n",
    "\n",
    "3. Commit that file with a clear commit message\n",
    "\n",
    "4. Create and checkout to a new branch called \"wish_to\"\n",
    "\n",
    "5. Make a change `solutions_for_question_2` and commit. The change should be adding your second favorite book.\n",
    "\n",
    "3. Switch back to the `master` or `main` branch.\n",
    "\n",
    "4. Make a change `solutions_for_question_2` and commit. Add the book you want to read next. Make sure that change is to the same line as you change in step 5. Make sure the change differs from what you did in step two. \n",
    "\n",
    "5. Now merge the `new` and `master` branches.\n",
    "\n",
    "6. Manually resolve the git conflict and then commit the resolved version. Be detailed on how you are solving the conflict\n",
    "\n",
    "7. Look at your git and describe with words the timeline of changes. "
   ]
  },
  {
   "cell_type": "code",
   "execution_count": null,
   "id": "bcb93886",
   "metadata": {},
   "outputs": [],
   "source": [
    "# Paste here all the commands you used to answer this questions.\n",
    "echo \"A Wizard of Earthsea\" > solutions_for_question_2.txt\n",
    "git add solutions_for_question_2.txt\n",
    "git commit -m \"Commiting my first answer to question 2\"\n",
    "git checkout -b \"wish_to\"\n",
    "vim solutions_for_question_2.txt\n",
    "git add .\n",
    "git commit -m \"Commiting new branch\"\n",
    "git checkout main\n",
    "vim solutions_for_question_2.txt\n",
    "git add .\n",
    "git commit -m \"COmmiting changes in main branch\"\n",
    "git merge wish_to # Merging \"wish_to\" branch into main line\n",
    "git status # Checking for conflicting files between the two branches\n",
    "vim solutions_for_question_2.txt # Opening file to solve conflict. Removed the addition from the branch to maintain original.\n",
    "#As I write this, I realize I could have simply moved the addition I made in the \"wish_to\" branch to another line and kept both inputs.\n",
    "#But right now I don't want to mess with the git structure again\n",
    "git add solutions_for_question_2.txt # Staging the corrected file.\n",
    "git commit -m \"Commiting resolved version of solutions for question 2. Replaced second favorite book (branched version) with book I want to read next.\"\n",
    "git log # My first step was to create the solutions file, naming my favorite book in the process. This was my first commit. \n",
    "# In my second commit, I saved the branch I had created, in which the solutions file now included Dune, my second favorite book.\n",
    "# I then went back to the main branch and added the book I want to read next into the solutions file in that branch, committing this new snapshot.\n",
    "# Then, I attempted to merge the two branches but the solutions file presented a conflict. I resolved the conflict, merged the branches successfully, then committed this final version. \n",
    "\n",
    "# Use instructive commit messages, since we will look at those to grade your homework "
   ]
  },
  {
   "cell_type": "markdown",
   "id": "8803051b",
   "metadata": {},
   "source": [
    "## Question 3 (pts 30)\n",
    "\n",
    "Solve the challenges of this Git Scavenger task  \n",
    "\n",
    "Here is the link of the task:\n",
    "\n",
    "https://github.com/PPOL-5203-2023/git-scavenger-hunt-20203\n",
    "\n",
    "Provide your answers below in this notebook. "
   ]
  },
  {
   "cell_type": "code",
   "execution_count": null,
   "id": "6f9928a7",
   "metadata": {},
   "outputs": [],
   "source": [
    "# add your answers here\n",
    "\n",
    "# 1. Trump is explaining exactly how wild and extreme his second term would be.\n",
    "# 2. Removed information about last update to the story, removed \"Author\" header leaving only name, generally shortened text, added URL\n",
    "# 3. \"Babel or the Necessity of Violence: An Arcane History of the Oxford Translators' Revolution\" and \"Exhalation\" by Ted Chiang.\n",
    "# 4. 2021 (22 books)\n",
    "# 5. I have read The Left Hand of Darkness and thought it was fantastic! Big fan of Le Guin, about to start reading another of hers - \"The Lathe of Heaven\".\n",
    "# 6. They were replaced with images of dogs in commit a21b7ce03804b2f725b433b663671dff37604f92 - \"update dog images\".\n",
    "# 7. In addition to the main branch, which contains only the README as downloaded at the beginning of this task, \n",
    "# there are two active branches, jb and updates-book-2025, which are identical. Both contain a list of Joe Abercrombie books, pointing out the one you are currently reading. \n",
    "# 8. Dog 3 was particularly cute - I love him watching CNN and trying to stay informed. \n",
    "# 9. 53b7fd848808459214d0bfb9bdbd90cbc1b49448\n",
    "# 10. Eric Dunford.\n",
    "# 11. Joe Abercrombie's \"The Trouble with Peace\"."
   ]
  },
  {
   "cell_type": "markdown",
   "id": "c129e20d",
   "metadata": {},
   "source": [
    "## Question 4 (pts 10)\n",
    "\n",
    "As part of this homework, I want you to complete at least one course on DataCamp about Git. I created a track for you on your DataCamp Dashboard. Your tasks are: \n",
    "\n",
    "- Complete at least one of the courses in the git track\n",
    "\n",
    "- Submit a certification/proof of completion as a PDF in the github repository for this assignment. \n",
    "\n",
    "**IMPORTANT:** You have free access to datacamp as part of this course. So you do not need to sign up. Just follow the github invitation (with your georgetown email) that I sent earlier to you.  \n",
    "\n",
    "If you have time, complete the entire track. It is really worth it!"
   ]
  },
  {
   "cell_type": "markdown",
   "id": "e0158d6d",
   "metadata": {},
   "source": [
    "### Happy Git!"
   ]
  }
 ],
 "metadata": {
  "kernelspec": {
   "display_name": "Python 3 (ipykernel)",
   "language": "python",
   "name": "python3"
  },
  "language_info": {
   "codemirror_mode": {
    "name": "ipython",
    "version": 3
   },
   "file_extension": ".py",
   "mimetype": "text/x-python",
   "name": "python",
   "nbconvert_exporter": "python",
   "pygments_lexer": "ipython3",
   "version": "3.13.5"
  }
 },
 "nbformat": 4,
 "nbformat_minor": 5
}
